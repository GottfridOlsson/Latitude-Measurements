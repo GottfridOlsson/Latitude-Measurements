{
 "cells": [
  {
   "cell_type": "code",
   "execution_count": null,
   "metadata": {},
   "outputs": [],
   "source": [
    "# Reference source outside the Learning from Data course: https://prappleizer.github.io/Tutorials/MCMC/MCMC_Tutorial.html\n",
    "\n",
    "# TO CHECK OUT TODO: https://jakevdp.github.io/blog/2014/06/14/frequentism-and-bayesianism-4-bayesian-in-python/\n",
    "\n",
    "import numpy as np\n",
    "import scipy as scipy\n",
    "import matplotlib.pyplot as plt\n",
    "import emcee\n",
    "import corner\n",
    "import pandas as pd\n",
    "%matplotlib inline\n",
    "plt.rcParams['figure.figsize'] = (15,7)"
   ]
  },
  {
   "cell_type": "code",
   "execution_count": 34,
   "metadata": {},
   "outputs": [
    {
     "data": {
      "image/png": "[encoded data removed]",
      "text/plain": [
       "<Figure size 1080x504 with 1 Axes>"
      ]
     },
     "metadata": {
      "needs_background": "light"
     },
     "output_type": "display_data"
    }
   ],
   "source": [
    "# DATA AND FITTED CURVE #\n",
    "\"\"\"\n",
    "    x:              days from 2021 \n",
    "    measured_data:  max angle that day\n",
    "    sigma:          standard deviation of measurement\n",
    "    fitted_curve:   function of theta and x\n",
    "\"\"\"\n",
    "formatted_CSV_path = \"Formatted CSV/SVM_PlotData_from_2022-01-01_to_2022-12-31.csv\"\n",
    "CSV = pd.read_csv(formatted_CSV_path, sep=',')\n",
    "header = CSV.columns.values\n",
    "day = np.array(CSV[header[3]])\n",
    "measured_data = np.array(CSV[header[4]])\n",
    "sigma = np.array(CSV[header[5]]) #the uncertainty in the measurements is +-0.25 deg # TODO: perhaps can do this better or more rigorously=\n",
    "\n",
    "theta_max = np.array([90, 90, 2*np.pi/360, 2*np.pi]) #uniform prior max theta parameter value (from knowledge of physics of my problem)\n",
    "\n",
    "plt.title(\"Raw data\")\n",
    "plt.plot(day, measured_data, 'ro')\n",
    "plt.xlabel(\"Day $x$ from 2021-01-01\")\n",
    "plt.ylabel(\"Measured angle $\\\\alpha$ (deg)\")\n",
    "plt.grid()\n",
    "\n",
    "\n",
    "def calculate_fitted_curve(theta, day):\n",
    "    # g(x) = a + b*cos(c*x + d) as the function for the angle vs. day x\n",
    "    # with theta = [a, b, c, d] we get\n",
    "    a, b, c, d = theta\n",
    "    return a + b*np.cos(c*day + d)"
   ]
  },
  {
   "cell_type": "code",
   "execution_count": 39,
   "metadata": {},
   "outputs": [],
   "source": [
    "# FUNCTIONS #\n",
    "def log_prior_flat(theta, theta_max):\n",
    "    bool = 0\n",
    "    for i in range(len(theta)):\n",
    "        if np.abs(theta[i]) > theta_max[i]:\n",
    "            bool = 1\n",
    " \n",
    "    if bool == 0:\n",
    "        return 0 # log(1)\n",
    "    else:\n",
    "        return -np.inf  # log(0)\n",
    "\n",
    "\n",
    "def log_likelihood(theta, day, measured_data, sigma):\n",
    "    # Assumes same sigma for all measured datapoints:\n",
    "    # measured_data_i = real_data_i + error_i, where error_i is normally distributed with sigma_i = sigma forall i \n",
    "    \n",
    "    log_likelihood = 0\n",
    "    for i in range(len(day)):\n",
    "        fitted_curve_value = calculate_fitted_curve(theta, day[i])\n",
    "        log_likelihood += -(1/2) * (fitted_curve_value - measured_data[i])**2 / sigma[i]**2 #log of likelihood is sum of chi^2-terms \n",
    "    \n",
    "    return log_likelihood\n",
    "\n",
    "#for scipy.optimize.minimize //2022-09-16\n",
    "#minimize the negative posterior <==> maximize positive posterior\n",
    "def log_posterior(theta, day, measured_data, sigma):\n",
    "    return log_likelihood(theta, day, measured_data, sigma) + log_prior_flat(theta, theta_max)\n"
   ]
  },
  {
   "cell_type": "code",
   "execution_count": 41,
   "metadata": {},
   "outputs": [
    {
     "name": "stdout",
     "output_type": "stream",
     "text": [
      "Running burn-in...\n"
     ]
    },
    {
     "ename": "ValueError",
     "evalue": "Probability function returned NaN",
     "output_type": "error",
     "traceback": [
      "\u001b[1;31m---------------------------------------------------------------------------\u001b[0m",
      "\u001b[1;31mValueError\u001b[0m                                Traceback (most recent call last)",
      "\u001b[1;32md:\\PROJEKT\\ASTRONOMY\\LATITUDMÄTNING\\SVM Github\\bayesian_analysis.ipynb Cell 4\u001b[0m in \u001b[0;36m<cell line: 23>\u001b[1;34m()\u001b[0m\n\u001b[0;32m     <a href='vscode-notebook-cell:/d%3A/PROJEKT/ASTRONOMY/LATITUDM%C3%84TNING/SVM%20Github/bayesian_analysis.ipynb#W3sZmlsZQ%3D%3D?line=18'>19</a>\u001b[0m     pos, prob, state \u001b[39m=\u001b[39m sampler\u001b[39m.\u001b[39mrun_mcmc(p0, number_of_iterations)\n\u001b[0;32m     <a href='vscode-notebook-cell:/d%3A/PROJEKT/ASTRONOMY/LATITUDM%C3%84TNING/SVM%20Github/bayesian_analysis.ipynb#W3sZmlsZQ%3D%3D?line=20'>21</a>\u001b[0m     \u001b[39mreturn\u001b[39;00m sampler, pos, prob, state\n\u001b[1;32m---> <a href='vscode-notebook-cell:/d%3A/PROJEKT/ASTRONOMY/LATITUDM%C3%84TNING/SVM%20Github/bayesian_analysis.ipynb#W3sZmlsZQ%3D%3D?line=22'>23</a>\u001b[0m sampler, pos, prob, state \u001b[39m=\u001b[39m run_MCMC(p0, number_of_walkers, number_of_iterations, number_of_dimensions, number_of_steps, data, log_posterior)\n",
      "\u001b[1;32md:\\PROJEKT\\ASTRONOMY\\LATITUDMÄTNING\\SVM Github\\bayesian_analysis.ipynb Cell 4\u001b[0m in \u001b[0;36mrun_MCMC\u001b[1;34m(p0, number_of_walkers, number_of_iterations, number_of_dimensions, number_of_steps, data, log_posterior)\u001b[0m\n\u001b[0;32m     <a href='vscode-notebook-cell:/d%3A/PROJEKT/ASTRONOMY/LATITUDM%C3%84TNING/SVM%20Github/bayesian_analysis.ipynb#W3sZmlsZQ%3D%3D?line=11'>12</a>\u001b[0m sampler \u001b[39m=\u001b[39m emcee\u001b[39m.\u001b[39mEnsembleSampler(number_of_walkers, number_of_dimensions, log_posterior, args\u001b[39m=\u001b[39mdata)\n\u001b[0;32m     <a href='vscode-notebook-cell:/d%3A/PROJEKT/ASTRONOMY/LATITUDM%C3%84TNING/SVM%20Github/bayesian_analysis.ipynb#W3sZmlsZQ%3D%3D?line=13'>14</a>\u001b[0m \u001b[39mprint\u001b[39m(\u001b[39m\"\u001b[39m\u001b[39mRunning burn-in...\u001b[39m\u001b[39m\"\u001b[39m)\n\u001b[1;32m---> <a href='vscode-notebook-cell:/d%3A/PROJEKT/ASTRONOMY/LATITUDM%C3%84TNING/SVM%20Github/bayesian_analysis.ipynb#W3sZmlsZQ%3D%3D?line=14'>15</a>\u001b[0m p0, _, _ \u001b[39m=\u001b[39m sampler\u001b[39m.\u001b[39;49mrun_mcmc(p0, number_of_steps)\n\u001b[0;32m     <a href='vscode-notebook-cell:/d%3A/PROJEKT/ASTRONOMY/LATITUDM%C3%84TNING/SVM%20Github/bayesian_analysis.ipynb#W3sZmlsZQ%3D%3D?line=15'>16</a>\u001b[0m sampler\u001b[39m.\u001b[39mreset()\n\u001b[0;32m     <a href='vscode-notebook-cell:/d%3A/PROJEKT/ASTRONOMY/LATITUDM%C3%84TNING/SVM%20Github/bayesian_analysis.ipynb#W3sZmlsZQ%3D%3D?line=17'>18</a>\u001b[0m \u001b[39mprint\u001b[39m(\u001b[39m\"\u001b[39m\u001b[39mRunning production...\u001b[39m\u001b[39m\"\u001b[39m)\n",
      "File \u001b[1;32mc:\\Users\\Gottfrid\\AppData\\Local\\Programs\\Python\\Python38\\lib\\site-packages\\emcee\\ensemble.py:443\u001b[0m, in \u001b[0;36mEnsembleSampler.run_mcmc\u001b[1;34m(self, initial_state, nsteps, **kwargs)\u001b[0m\n\u001b[0;32m    440\u001b[0m     initial_state \u001b[39m=\u001b[39m \u001b[39mself\u001b[39m\u001b[39m.\u001b[39m_previous_state\n\u001b[0;32m    442\u001b[0m results \u001b[39m=\u001b[39m \u001b[39mNone\u001b[39;00m\n\u001b[1;32m--> 443\u001b[0m \u001b[39mfor\u001b[39;00m results \u001b[39min\u001b[39;00m \u001b[39mself\u001b[39m\u001b[39m.\u001b[39msample(initial_state, iterations\u001b[39m=\u001b[39mnsteps, \u001b[39m*\u001b[39m\u001b[39m*\u001b[39mkwargs):\n\u001b[0;32m    444\u001b[0m     \u001b[39mpass\u001b[39;00m\n\u001b[0;32m    446\u001b[0m \u001b[39m# Store so that the ``initial_state=None`` case will work\u001b[39;00m\n",
      "File \u001b[1;32mc:\\Users\\Gottfrid\\AppData\\Local\\Programs\\Python\\Python38\\lib\\site-packages\\emcee\\ensemble.py:344\u001b[0m, in \u001b[0;36mEnsembleSampler.sample\u001b[1;34m(self, initial_state, log_prob0, rstate0, blobs0, iterations, tune, skip_initial_state_check, thin_by, thin, store, progress, progress_kwargs)\u001b[0m\n\u001b[0;32m    342\u001b[0m     state\u001b[39m.\u001b[39mblobs \u001b[39m=\u001b[39m blobs0\n\u001b[0;32m    343\u001b[0m \u001b[39mif\u001b[39;00m state\u001b[39m.\u001b[39mlog_prob \u001b[39mis\u001b[39;00m \u001b[39mNone\u001b[39;00m:\n\u001b[1;32m--> 344\u001b[0m     state\u001b[39m.\u001b[39mlog_prob, state\u001b[39m.\u001b[39mblobs \u001b[39m=\u001b[39m \u001b[39mself\u001b[39;49m\u001b[39m.\u001b[39;49mcompute_log_prob(state\u001b[39m.\u001b[39;49mcoords)\n\u001b[0;32m    345\u001b[0m \u001b[39mif\u001b[39;00m np\u001b[39m.\u001b[39mshape(state\u001b[39m.\u001b[39mlog_prob) \u001b[39m!=\u001b[39m (\u001b[39mself\u001b[39m\u001b[39m.\u001b[39mnwalkers,):\n\u001b[0;32m    346\u001b[0m     \u001b[39mraise\u001b[39;00m \u001b[39mValueError\u001b[39;00m(\u001b[39m\"\u001b[39m\u001b[39mincompatible input dimensions\u001b[39m\u001b[39m\"\u001b[39m)\n",
      "File \u001b[1;32mc:\\Users\\Gottfrid\\AppData\\Local\\Programs\\Python\\Python38\\lib\\site-packages\\emcee\\ensemble.py:535\u001b[0m, in \u001b[0;36mEnsembleSampler.compute_log_prob\u001b[1;34m(self, coords)\u001b[0m\n\u001b[0;32m    533\u001b[0m \u001b[39m# Check for log_prob returning NaN.\u001b[39;00m\n\u001b[0;32m    534\u001b[0m \u001b[39mif\u001b[39;00m np\u001b[39m.\u001b[39many(np\u001b[39m.\u001b[39misnan(log_prob)):\n\u001b[1;32m--> 535\u001b[0m     \u001b[39mraise\u001b[39;00m \u001b[39mValueError\u001b[39;00m(\u001b[39m\"\u001b[39m\u001b[39mProbability function returned NaN\u001b[39m\u001b[39m\"\u001b[39m)\n\u001b[0;32m    537\u001b[0m \u001b[39mreturn\u001b[39;00m log_prob, blob\n",
      "\u001b[1;31mValueError\u001b[0m: Probability function returned NaN"
     ]
    }
   ],
   "source": [
    "# Preparations to run MCMC #\n",
    "data = (day, measured_data, sigma)\n",
    "initial_theta = np.array([0, 0, 0, 0]) #initial parameter guess\n",
    "\n",
    "number_of_walkers = 500\n",
    "number_of_iterations = 5\n",
    "number_of_steps = 100\n",
    "number_of_dimensions = len(initial_theta)\n",
    "p0 = [np.array(initial_theta) + 1e-7 * np.random.randn(number_of_dimensions) for i in range(number_of_walkers)] #some probability of stepping from one gridpoint to another\n",
    "\n",
    "def run_MCMC(p0, number_of_walkers, number_of_iterations, number_of_dimensions, number_of_steps, data, log_posterior):\n",
    "    sampler = emcee.EnsembleSampler(number_of_walkers, number_of_dimensions, log_posterior, args=data)\n",
    "\n",
    "    print(\"Running burn-in...\")\n",
    "    p0, _, _ = sampler.run_mcmc(p0, number_of_steps)\n",
    "    sampler.reset()\n",
    "\n",
    "    print(\"Running production...\")\n",
    "    pos, prob, state = sampler.run_mcmc(p0, number_of_iterations)\n",
    "\n",
    "    return sampler, pos, prob, state\n",
    "\n",
    "sampler, pos, prob, state = run_MCMC(p0, number_of_walkers, number_of_iterations, number_of_dimensions, number_of_steps, data, log_posterior)"
   ]
  },
  {
   "cell_type": "code",
   "execution_count": null,
   "metadata": {},
   "outputs": [
    {
     "ename": "NameError",
     "evalue": "name 'sampler' is not defined",
     "output_type": "error",
     "traceback": [
      "\u001b[1;31m---------------------------------------------------------------------------\u001b[0m",
      "\u001b[1;31mNameError\u001b[0m                                 Traceback (most recent call last)",
      "\u001b[1;32md:\\PROJEKT\\ASTRONOMY\\LATITUDMÄTNING\\SVM Github\\bayesian_analysis.ipynb Cell 5\u001b[0m in \u001b[0;36m<cell line: 1>\u001b[1;34m()\u001b[0m\n\u001b[1;32m----> <a href='vscode-notebook-cell:/d%3A/PROJEKT/ASTRONOMY/LATITUDM%C3%84TNING/SVM%20Github/bayesian_analysis.ipynb#W4sZmlsZQ%3D%3D?line=0'>1</a>\u001b[0m samples \u001b[39m=\u001b[39m sampler\u001b[39m.\u001b[39mflatchain\n\u001b[0;32m      <a href='vscode-notebook-cell:/d%3A/PROJEKT/ASTRONOMY/LATITUDM%C3%84TNING/SVM%20Github/bayesian_analysis.ipynb#W4sZmlsZQ%3D%3D?line=1'>2</a>\u001b[0m sampled_parameter_values \u001b[39m=\u001b[39m samples[np\u001b[39m.\u001b[39margmax(sampler\u001b[39m.\u001b[39mflatlnprobability)]\n\u001b[0;32m      <a href='vscode-notebook-cell:/d%3A/PROJEKT/ASTRONOMY/LATITUDM%C3%84TNING/SVM%20Github/bayesian_analysis.ipynb#W4sZmlsZQ%3D%3D?line=2'>3</a>\u001b[0m \u001b[39mprint\u001b[39m(sampled_parameter_values)\n",
      "\u001b[1;31mNameError\u001b[0m: name 'sampler' is not defined"
     ]
    }
   ],
   "source": [
    "samples = sampler.flatchain\n",
    "sampled_parameter_values = samples[np.argmax(sampler.flatlnprobability)]\n",
    "print(sampled_parameter_values)\n",
    "\n",
    "labels = ['a','b','c','d']\n",
    "fig = corner.corner(samples, show_titles=True, labels=labels, plot_datapoints=True, quantiles=[0.25, 0.5, 0.75])"
   ]
  },
  {
   "cell_type": "code",
   "execution_count": null,
   "metadata": {},
   "outputs": [],
   "source": []
  }
 ],
 "metadata": {
  "kernelspec": {
   "display_name": "Python 3.8.6 64-bit",
   "language": "python",
   "name": "python3"
  },
  "language_info": {
   "codemirror_mode": {
    "name": "ipython",
    "version": 3
   },
   "file_extension": ".py",
   "mimetype": "text/x-python",
   "name": "python",
   "nbconvert_exporter": "python",
   "pygments_lexer": "ipython3",
   "version": "3.8.6"
  },
  "vscode": {
   "interpreter": {
    "hash": "30b53761d597c25be7af7c7b28157d6e3652305de98f4734348a97837945f2a6"
   }
  }
 },
 "nbformat": 4,
 "nbformat_minor": 2
}
