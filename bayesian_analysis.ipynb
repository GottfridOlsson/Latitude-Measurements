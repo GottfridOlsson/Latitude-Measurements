{
 "cells": [
  {
   "cell_type": "code",
   "execution_count": null,
   "metadata": {},
   "outputs": [],
   "source": [
    "import numpy as np\n",
    "import scipy as scipy\n",
    "import matplotlib.pyplot as plt\n",
    "import emcee as emcee\n",
    "#import sklearn as skl\n",
    "import pandas as pd\n",
    "%matplotlib inline"
   ]
  },
  {
   "cell_type": "code",
   "execution_count": null,
   "metadata": {},
   "outputs": [],
   "source": [
    "# DATA AND FITTED CURVE #\n",
    "\"\"\"\n",
    "    x:              days from 2021 \n",
    "    measured_data:  max angle that day\n",
    "    sigma:          standard deviation of measurement\n",
    "    fitted_curve:   function of theta and x\n",
    "\"\"\"\n",
    "formatted_CSV_path = \"Formatted CSV/SVM_PlotData_from_2022-01-01_to_2022-12-31.csv\"\n",
    "CSV = pd.read_csv(formatted_CSV_path, sep=',')\n",
    "header = CSV.columns.values\n",
    "print(header)\n",
    "quit()\n",
    "x = CSV[header[0]]\n",
    "measured_data = CSV[header[3]]\n",
    "\n",
    "plt.plot(x, measured_data)\n",
    "plt.show()\n",
    "# columns:\n",
    "# 0: days with start 2021-01-01\n",
    "# 1: theoretical curve, leap day corrected\n",
    "# 2: fitted curve\n",
    "# 3: measured alpha\n",
    "# 4: alpha naive min\n",
    "# 5: uncertainty pm\n",
    "\n",
    "\n",
    "def calculate_fitted_curve(theta, x):\n",
    "    # g(x) = a + b*cos(c*x + d)\n",
    "    # as the function for the angle vs. day x\n",
    "    # with theta = [a, b, c, d] we get\n",
    "    return theta[0] + theta[1]*np.cos(theta[2]*x+theta[3])"
   ]
  },
  {
   "cell_type": "code",
   "execution_count": null,
   "metadata": {},
   "outputs": [],
   "source": [
    "# FUNCTIONS #\n",
    "\n",
    "def log_flat_prior(theta, theta_max):\n",
    "    for theta in theta and theta_max in theta_max:\n",
    "        if np.abs(theta) < theta_max:\n",
    "            return 0 # log(1)\n",
    "    else:\n",
    "        return -np.inf  # log(0)\n",
    "\n",
    "\n",
    "def log_likelihood(theta, fitted_curve, measured_data, sigma):\n",
    "    # Assumes same sigma for all measured datapoints:\n",
    "    # measured_data_i = real_data_i + error_i, where error_i is normally distributed with sigma_i = sigma forall i \n",
    "    \n",
    "    log_likelihood = 0\n",
    "\n",
    "    for i in range(len(fitted_curve)):\n",
    "        log_likelihood += -(1/2) * (fitted_curve[i] - measured_data[i])**2 / sigma**2 #log of likelihood is sum of chi^2-terms \n",
    "    \n",
    "    return log_likelihood\n",
    "\n",
    "\n",
    "#for scipy.optimize.minimize //2022-09-16\n",
    "#minimize the negative posterior <==> maximize positive posterior\n",
    "def neg_posterior_uniform_prior(theta):\n",
    "    fitted_curve = calculate_fitted_curve(theta, x)\n",
    "    return -( log_likelihood(theta, fitted_curve, measured_data, sigma) + log_flat_prior(theta) )\n",
    "\n"
   ]
  }
 ],
 "metadata": {
  "kernelspec": {
   "display_name": "Python 3.8.6 64-bit",
   "language": "python",
   "name": "python3"
  },
  "language_info": {
   "codemirror_mode": {
    "name": "ipython",
    "version": 3
   },
   "file_extension": ".py",
   "mimetype": "text/x-python",
   "name": "python",
   "nbconvert_exporter": "python",
   "pygments_lexer": "ipython3",
   "version": "3.8.6"
  },
  "orig_nbformat": 4,
  "vscode": {
   "interpreter": {
    "hash": "30b53761d597c25be7af7c7b28157d6e3652305de98f4734348a97837945f2a6"
   }
  }
 },
 "nbformat": 4,
 "nbformat_minor": 2
}
